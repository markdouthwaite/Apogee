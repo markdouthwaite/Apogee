{
  "cells": [
    {
      "cell_type": "code",
      "execution_count": 4,
      "metadata": {
        "collapsed": true,
        "pycharm": {
          "is_executing": false
        }
      },
      "outputs": [
        {
          "name": "stdout",
          "text": [
            "{\u0027a\u0027: {\u0027a0\u0027: 1.0, \u0027a1\u0027: 0.0}, \u0027b\u0027: {\u0027b0\u0027: 0.64000005, \u0027b1\u0027: 0.35999998}, \u0027c\u0027: {\u0027c0\u0027: 0.4, \u0027c1\u0027: 0.59999996}}\n"
          ],
          "output_type": "stream"
        }
      ],
      "source": "import matplotlib.pyplot as plt\nimport networkx as nx\nfrom apogee.models.bayes import BayesianNetwork, DiscreteVariable\n\nwith BayesianNetwork() as bn:\n    bn.add(DiscreteVariable(\"a\", [\"a0\", \"a1\"], parameters\u003d[0.1, 0.9]))\n    bn.add(\n        DiscreteVariable(\n            \"b\", [\"b0\", \"b1\"], parents\u003d[\"a\"], parameters\u003d[0.8, 0.2, 0.45, 0.55]\n        )\n    )\n    bn.add(\n        DiscreteVariable(\n            \"c\", [\"c0\", \"c1\"], parents\u003d[\"a\"], parameters\u003d[0.3, 0.7, 0.45, 0.55]\n        )\n    )\n\nprint(bn.predict({\"a\": \"a0\"}))\n"
    },
    {
      "cell_type": "code",
      "execution_count": 5,
      "outputs": [
        {
          "data": {
            "text/plain": "\u003cFigure size 432x288 with 1 Axes\u003e",
            "image/png": "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\u003d\u003d\n"
          },
          "metadata": {},
          "output_type": "display_data"
        }
      ],
      "source": "g \u003d bn.to_digraph()\nnx.draw(g)\nplt.show()",
      "metadata": {
        "pycharm": {
          "metadata": false,
          "name": "#%%\n",
          "is_executing": false
        }
      }
    }
  ],
  "metadata": {
    "language_info": {
      "codemirror_mode": {
        "name": "ipython",
        "version": 2
      },
      "file_extension": ".py",
      "mimetype": "text/x-python",
      "name": "python",
      "nbconvert_exporter": "python",
      "pygments_lexer": "ipython2",
      "version": "2.7.6"
    },
    "kernelspec": {
      "name": "python3",
      "language": "python",
      "display_name": "Python 3"
    }
  },
  "nbformat": 4,
  "nbformat_minor": 0
}