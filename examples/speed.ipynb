{
  "cells": [
    {
      "cell_type": "code",
      "execution_count": 6,
      "metadata": {
        "pycharm": {
          "is_executing": false
        }
      },
      "outputs": [],
      "source": [
        "import timeit\n",
        "from apogee.models import load_model\n",
        "\n",
        "model \u003d load_model(\"alarm\")"
      ]
    },
    {
      "cell_type": "code",
      "execution_count": 3,
      "metadata": {
        "pycharm": {
          "is_executing": false
        }
      },
      "outputs": [
        {
          "data": {
            "text/plain": "GraphicalModel(PAP,VENTLUNG,SAO2,SHUNT,HR,HREKG,CVP,KINKEDTUBE,BP,PULMEMBOLUS,ERRCAUTER,EXPCO2,MINVOLSET,CATECHOL,ERRLOWOUTPUT,FIO2,LVEDVOLUME,INTUBATION,STROKEVOLUME,PRESS,HRBP,VENTMACH,CO,MINVOL,HYPOVOLEMIA,LVFAILURE,HRSAT,INSUFFANESTH,TPR,HISTORY,VENTALV,DISCONNECT,VENTTUBE,ARTCO2,ANAPHYLAXIS,PVSAT,PCWP)"
          },
          "metadata": {},
          "output_type": "execute_result",
          "execution_count": 3
        }
      ],
      "source": [
        "model"
      ]
    },
    {
      "cell_type": "code",
      "execution_count": 4,
      "metadata": {
        "pycharm": {
          "is_executing": false
        }
      },
      "outputs": [
        {
          "name": "stdout",
          "text": [
            "The slowest run took 4.50 times longer than the fastest. This could mean that an intermediate result is being cached.\n1.92 µs ± 1.44 µs per loop (mean ± std. dev. of 7 runs, 1 loop each)\n"
          ],
          "output_type": "stream"
        }
      ],
      "source": [
        "%%timeit\n",
        "model.predict(marginals\u003d[\"PAP\"])"
      ]
    },
    {
      "cell_type": "markdown",
      "metadata": {
        "pycharm": {}
      },
      "source": [
        "# Benchmark\n",
        "\n",
        "Initial: 274 ms ± 5.53 ms per loop (mean ± std. dev. of 7 runs, 1 loop each)"
      ]
    },
    {
      "cell_type": "code",
      "execution_count": 7,
      "metadata": {
        "pycharm": {
          "is_executing": false
        }
      },
      "outputs": [
        {
          "name": "stdout",
          "text": [
            "610 ns ± 6.46 ns per loop (mean ± std. dev. of 7 runs, 1000000 loops each)\n"
          ],
          "output_type": "stream"
        }
      ],
      "source": [
        "%%timeit\n",
        "model.index(\"PAP\")"
      ]
    }
  ],
  "metadata": {
    "kernelspec": {
      "display_name": "Python 3",
      "language": "python",
      "name": "python3"
    },
    "language_info": {
      "codemirror_mode": {
        "name": "ipython",
        "version": 3
      },
      "file_extension": ".py",
      "mimetype": "text/x-python",
      "name": "python",
      "nbconvert_exporter": "python",
      "pygments_lexer": "ipython3",
      "version": "3.6.4"
    }
  },
  "nbformat": 4,
  "nbformat_minor": 2
}