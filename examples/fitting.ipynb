{
 "cells": [
  {
   "cell_type": "code",
   "execution_count": 6,
   "metadata": {
    "collapsed": true,
    "pycharm": {
     "is_executing": false
    }
   },
   "outputs": [],
   "source": [
    "import numpy as np\n",
    "import pandas as pd\n",
    "\n",
    "from apogee.models import GraphicalModel\n",
    "from apogee.models.variables import DiscreteVariable"
   ]
  },
  {
   "cell_type": "code",
   "execution_count": 7,
   "metadata": {
    "pycharm": {
     "is_executing": false,
     "metadata": false,
     "name": "#%%\n"
    }
   },
   "outputs": [],
   "source": [
    "tx = np.random.randint(0, 2, size=10)\n",
    "ty = np.random.randint(0, 2, size=10)\n",
    "\n",
    "x_states = np.asarray([\"a\", \"b\"])\n",
    "y_states = np.asarray([\"c\", \"d\"])\n",
    "\n",
    "data = pd.DataFrame(data=np.c_[x_states[tx], y_states[ty]],\n",
    "                    columns=[\"A\", \"B\"])\n"
   ]
  },
  {
   "cell_type": "code",
   "execution_count": 10,
   "metadata": {
    "pycharm": {
     "is_executing": false,
     "metadata": false,
     "name": "#%%\n"
    }
   },
   "outputs": [],
   "source": [
    "g = GraphicalModel()\n",
    "g.add(DiscreteVariable(\"A\",\n",
    "                       states=[\"a\", \"b\"])\n",
    "      )\n",
    "g.add(DiscreteVariable(\"B\",\n",
    "                       states=[\"c\", \"d\"],\n",
    "                       neighbours=[\"A\"]))\n",
    "\n",
    "g.fit(data)\n"
   ]
  },
  {
   "cell_type": "code",
   "execution_count": 4,
   "metadata": {
    "pycharm": {
     "is_executing": false,
     "metadata": false,
     "name": "#%%\n"
    }
   },
   "outputs": [
    {
     "data": {
      "text/plain": [
       "[{'A': {'a': 0.0, 'b': 1.0}}, {'B': {'c': 0.5, 'd': 0.5}}]"
      ]
     },
     "execution_count": 4,
     "metadata": {},
     "output_type": "execute_result"
    }
   ],
   "source": [
    "g.predict({\"A\": \"b\"})\n"
   ]
  },
  {
   "cell_type": "code",
   "execution_count": null,
   "metadata": {},
   "outputs": [],
   "source": []
  }
 ],
 "metadata": {
  "kernelspec": {
   "display_name": "Python 3",
   "language": "python",
   "name": "python3"
  },
  "language_info": {
   "codemirror_mode": {
    "name": "ipython",
    "version": 3
   },
   "file_extension": ".py",
   "mimetype": "text/x-python",
   "name": "python",
   "nbconvert_exporter": "python",
   "pygments_lexer": "ipython3",
   "version": "3.6.4"
  }
 },
 "nbformat": 4,
 "nbformat_minor": 2
}
