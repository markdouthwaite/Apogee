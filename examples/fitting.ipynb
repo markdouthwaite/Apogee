{
  "cells": [
    {
      "cell_type": "code",
      "execution_count": null,
      "metadata": {
        "collapsed": true,
        "pycharm": {}
      },
      "outputs": [],
      "source": "import numpy as np\nimport pandas as pd\n\nfrom apogee.models import GraphicalModel\nfrom apogee.models.variables import DiscreteVariable\n"
    },
    {
      "cell_type": "code",
      "execution_count": null,
      "outputs": [],
      "source": "tx \u003d np.random.randint(0, 2, size\u003d10)\nty \u003d np.random.randint(0, 2, size\u003d10)\n\nx_states \u003d np.asarray([\"a\", \"b\"])\ny_states \u003d np.asarray([\"c\", \"d\"])\n\ndata \u003d pd.DataFrame(data\u003dnp.c_[x_states[tx], y_states[ty]],\n                    columns\u003d[\"A\", \"B\"])\n",
      "metadata": {
        "pycharm": {
          "metadata": false,
          "name": "#%%\n"
        }
      }
    },
    {
      "cell_type": "code",
      "execution_count": null,
      "outputs": [],
      "source": "g \u003d GraphicalModel()\ng.add(DiscreteVariable(\"A\",\n                       states\u003d[\"a\", \"b\"])\n      )\ng.add(DiscreteVariable(\"B\",\n                       states\u003d[\"c\", \"d\"],\n                       neighbours\u003d[\"A\"]))\n\ng.fit(data)\n\n",
      "metadata": {
        "pycharm": {
          "metadata": false,
          "name": "#%%\n"
        }
      }
    }
  ],
  "metadata": {
    "language_info": {
      "codemirror_mode": {
        "name": "ipython",
        "version": 2
      },
      "file_extension": ".py",
      "mimetype": "text/x-python",
      "name": "python",
      "nbconvert_exporter": "python",
      "pygments_lexer": "ipython2",
      "version": "2.7.6"
    },
    "kernelspec": {
      "name": "python3",
      "language": "python",
      "display_name": "Python 3"
    }
  },
  "nbformat": 4,
  "nbformat_minor": 0
}